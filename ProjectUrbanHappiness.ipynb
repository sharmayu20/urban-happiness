{
    "cells": [
        {
            "cell_type": "markdown",
            "metadata": {
                "collapsed": true
            },
            "source": "# Capstone Project "
        },
        {
            "cell_type": "markdown",
            "metadata": {},
            "source": "Project to classify neighbourhoods in san fransico with respect to venues and crime"
        },
        {
            "cell_type": "code",
            "execution_count": 1,
            "metadata": {},
            "outputs": [],
            "source": "import pandas as pd\nimport numpy as np"
        },
        {
            "cell_type": "code",
            "execution_count": 2,
            "metadata": {
                "scrolled": false
            },
            "outputs": [
                {
                    "name": "stdout",
                    "output_type": "stream",
                    "text": "Requirement already satisfied: folium in /opt/conda/envs/Python-3.7-main/lib/python3.7/site-packages (0.11.0)\nRequirement already satisfied: requests in /opt/conda/envs/Python-3.7-main/lib/python3.7/site-packages (from folium) (2.24.0)\nRequirement already satisfied: numpy in /opt/conda/envs/Python-3.7-main/lib/python3.7/site-packages (from folium) (1.18.5)\nRequirement already satisfied: jinja2>=2.9 in /opt/conda/envs/Python-3.7-main/lib/python3.7/site-packages (from folium) (2.11.2)\nRequirement already satisfied: branca>=0.3.0 in /opt/conda/envs/Python-3.7-main/lib/python3.7/site-packages (from folium) (0.4.2)\nRequirement already satisfied: certifi>=2017.4.17 in /opt/conda/envs/Python-3.7-main/lib/python3.7/site-packages (from requests->folium) (2020.12.5)\nRequirement already satisfied: idna<3,>=2.5 in /opt/conda/envs/Python-3.7-main/lib/python3.7/site-packages (from requests->folium) (2.9)\nRequirement already satisfied: chardet<4,>=3.0.2 in /opt/conda/envs/Python-3.7-main/lib/python3.7/site-packages (from requests->folium) (3.0.4)\nRequirement already satisfied: urllib3!=1.25.0,!=1.25.1,<1.26,>=1.21.1 in /opt/conda/envs/Python-3.7-main/lib/python3.7/site-packages (from requests->folium) (1.25.9)\nRequirement already satisfied: MarkupSafe>=0.23 in /opt/conda/envs/Python-3.7-main/lib/python3.7/site-packages (from jinja2>=2.9->folium) (1.1.1)\n"
                }
            ],
            "source": "!pip install folium\n"
        },
        {
            "cell_type": "markdown",
            "metadata": {},
            "source": "### Importing the csv file from cloud object storage"
        },
        {
            "cell_type": "code",
            "execution_count": null,
            "metadata": {},
            "outputs": [],
            "source": "# The code was removed by Watson Studio for sharing."
        },
        {
            "cell_type": "markdown",
            "metadata": {},
            "source": "### Grouping and hence counting the  number of crimes in a neighbourhood"
        },
        {
            "cell_type": "code",
            "execution_count": null,
            "metadata": {},
            "outputs": [],
            "source": "df3=pd.DataFrame({'count' : df.groupby( [ \"PdDistrict\"] ).size()}).reset_index()\n"
        },
        {
            "cell_type": "code",
            "execution_count": null,
            "metadata": {},
            "outputs": [],
            "source": "df3.rename(columns={'PdDistrict':'Neighbourhood','count':'Count'},inplace=True)"
        },
        {
            "cell_type": "code",
            "execution_count": null,
            "metadata": {},
            "outputs": [],
            "source": "df3"
        },
        {
            "cell_type": "markdown",
            "metadata": {},
            "source": "### Fetching the geojson file from the object storage"
        },
        {
            "cell_type": "code",
            "execution_count": null,
            "metadata": {},
            "outputs": [],
            "source": "# The code was removed by Watson Studio for sharing."
        },
        {
            "cell_type": "code",
            "execution_count": null,
            "metadata": {},
            "outputs": [],
            "source": "from ibm_botocore.client import Config\nimport ibm_boto3\ncos = ibm_boto3.client(service_name='s3',\n    ibm_api_key_id=credentials_1['IBM_API_KEY_ID'],\n    ibm_service_instance_id=credentials_1['IAM_SERVICE_ID'],\n    ibm_auth_endpoint=credentials_1['IBM_AUTH_ENDPOINT'],\n    config=Config(signature_version='oauth'),\n    endpoint_url=credentials_1['ENDPOINT'])"
        },
        {
            "cell_type": "code",
            "execution_count": null,
            "metadata": {},
            "outputs": [],
            "source": "from ibm_botocore.client import Config\nimport ibm_boto3\ndef download_file_cos(credentials,local_file_name,key):  \n    cos = ibm_boto3.client(service_name='s3',\n    ibm_api_key_id=credentials['IBM_API_KEY_ID'],\n    ibm_service_instance_id=credentials['IAM_SERVICE_ID'],\n    ibm_auth_endpoint=credentials['IBM_AUTH_ENDPOINT'],\n    config=Config(signature_version='oauth'),\n    endpoint_url=credentials['ENDPOINT'])\n    try:\n        res=cos.download_file(Bucket=credentials['BUCKET'],Key=key,Filename=local_file_name)\n    except Exception as e:\n        print(Exception, e)\n    else:\n        print('File Downloaded')"
        },
        {
            "cell_type": "code",
            "execution_count": null,
            "metadata": {},
            "outputs": [],
            "source": "cos.download_file(Bucket=credentials_1['BUCKET'],Key='san-francisco.geojson',Filename='sf.geojson')"
        },
        {
            "cell_type": "code",
            "execution_count": null,
            "metadata": {},
            "outputs": [],
            "source": "san_geo=r'sf.geojson'"
        },
        {
            "cell_type": "markdown",
            "metadata": {},
            "source": "### Mapping the crimes in San Francisco"
        },
        {
            "cell_type": "code",
            "execution_count": null,
            "metadata": {},
            "outputs": [],
            "source": "import folium"
        },
        {
            "cell_type": "code",
            "execution_count": null,
            "metadata": {},
            "outputs": [],
            "source": "\nsan_map2=folium.Map(location=[37.78, -122.42],zoom_start=12)\n\nfolium.Choropleth(\n    geo_data=san_geo,\n    name='choropleth',\n    data=df3,\n    columns=['Neighbourhood', 'Count'],\n    key_on='feature.properties.DISTRICT',\n    fill_color='YlOrRd',\n    fill_opacity=0.7,\n    line_opacity=0.2,\n    legend_name='Crime rate in San Francisco'\n).add_to(san_map2)\n\nsan_map2"
        },
        {
            "cell_type": "code",
            "execution_count": null,
            "metadata": {},
            "outputs": [],
            "source": "pincode=[94124,94114,94112,94110,94115,94116,94121,94134,94116,94102]"
        },
        {
            "cell_type": "code",
            "execution_count": null,
            "metadata": {},
            "outputs": [],
            "source": "df3['Pincode']=pincode"
        },
        {
            "cell_type": "markdown",
            "metadata": {},
            "source": "### Pincodes of the neighbourhood added to the dataframe"
        },
        {
            "cell_type": "code",
            "execution_count": null,
            "metadata": {},
            "outputs": [],
            "source": "df3"
        },
        {
            "cell_type": "code",
            "execution_count": null,
            "metadata": {},
            "outputs": [],
            "source": "!pip install geocoder"
        },
        {
            "cell_type": "code",
            "execution_count": null,
            "metadata": {},
            "outputs": [],
            "source": "!pip install pgeocode"
        },
        {
            "cell_type": "code",
            "execution_count": null,
            "metadata": {},
            "outputs": [],
            "source": "import requests\nfrom sklearn.cluster import KMeans \nimport matplotlib.cm as cm\nimport matplotlib.colors as colors\nfrom geopy.geocoders import Nominatim\nimport geocoder\nimport pgeocode\n\npd.set_option('display.max_columns', None)\npd.set_option('display.max_rows', None)\n"
        },
        {
            "cell_type": "markdown",
            "metadata": {},
            "source": "### Fetching the Longitude and the Latitude of the neighbourhoods based on the postal code"
        },
        {
            "cell_type": "code",
            "execution_count": null,
            "metadata": {},
            "outputs": [],
            "source": "def get_geocoder(post):\n\n    nomi = pgeocode.Nominatim('us')\n    x=nomi.query_postal_code('{}'.format(post))\n    \n    lat=x.latitude\n    long=x.longitude\n    #print(lat)\n               \n    return lat,long                        \n\ndf3['Latitude'], df3['Longitude'] = zip(*df3['Pincode'].apply(get_geocoder))\ndf3=df3[['Neighbourhood','Count','Pincode','Latitude','Longitude']]\n\ndf3"
        },
        {
            "cell_type": "code",
            "execution_count": null,
            "metadata": {},
            "outputs": [],
            "source": "address = 'San Francisco, California, United States of America'\n\ngeolocator = Nominatim(user_agent=\"ny_explorer\")\nlocation = geolocator.geocode(address)\nlatitude = location.latitude\nlongitude = location.longitude\nprint('The geograpical coordinate of SanFrancisco are {}, {}.'.format(latitude, longitude))"
        },
        {
            "cell_type": "markdown",
            "metadata": {},
            "source": "### Marking the fetched neighbourhood coordinates "
        },
        {
            "cell_type": "code",
            "execution_count": null,
            "metadata": {
                "scrolled": true
            },
            "outputs": [],
            "source": "# create map of New York using latitude and longitude values\nmap_sf = folium.Map(location=[latitude, longitude], zoom_start=12)\n\n# add markers to map\nfolium.Choropleth(\n    geo_data=san_geo,\n    name='choropleth',\n    data=df3,\n    columns=['Neighbourhood', 'Count'],\n    key_on='feature.properties.DISTRICT',\n    fill_color='BuPu',\n    fill_opacity=0.7,\n    line_opacity=0.2,\n    legend_name='Crime rate in San Francisco'\n).add_to(map_sf)    \n\nfor lat, lng,neighborhood in zip(df3['Latitude'], df3['Longitude'], df3['Neighbourhood']):\n    label = '{}'.format(neighborhood)\n    label = folium.Popup(label, parse_html=True)\n    folium.CircleMarker(\n        [lat, lng],\n        radius=5,\n        popup=label,\n        color='blue',\n        fill=True,\n        fill_color='#3186cc',\n        fill_opacity=0.7,\n        parse_html=False).add_to(map_sf) \nmap_sf"
        },
        {
            "cell_type": "code",
            "execution_count": null,
            "metadata": {
                "scrolled": true
            },
            "outputs": [],
            "source": "# The code was removed by Watson Studio for sharing."
        },
        {
            "cell_type": "markdown",
            "metadata": {},
            "source": "### Extracting the categories of Venue"
        },
        {
            "cell_type": "code",
            "execution_count": null,
            "metadata": {},
            "outputs": [],
            "source": "# function that extracts the category of the venue\ndef get_category_type(row):\n    try:\n        categories_list = row['categories']\n    except:\n        categories_list = row['venue.categories']\n        \n    if len(categories_list) == 0:\n        return None\n    else:\n        return categories_list[0]['name']"
        },
        {
            "cell_type": "markdown",
            "metadata": {},
            "source": "### Extracting the nearby Venues by using the FourSquare API"
        },
        {
            "cell_type": "code",
            "execution_count": null,
            "metadata": {},
            "outputs": [],
            "source": "def getNearbyVenues(names, latitudes, longitudes, radius=100):\n    \n    venues_list=[]\n    for name, lat, lng in zip(names, latitudes, longitudes):\n        print(name)\n            \n        # create the API request URL\n        url = 'https://api.foursquare.com/v2/venues/explore?&client_id={}&client_secret={}&v={}&ll={},{}&radius={}&limit={}'.format(\n            CLIENT_ID, \n            CLIENT_SECRET, \n            VERSION, \n            lat, \n            lng, \n            radius, \n            LIMIT)\n            \n        # make the GET request\n        results = requests.get(url).json()[\"response\"]['groups'][0]['items']\n        \n        # return only relevant information for each nearby venue\n        venues_list.append([(\n            name, \n            lat, \n            lng, \n            v['venue']['name'], \n            v['venue']['location']['lat'], \n            v['venue']['location']['lng'],  \n            v['venue']['categories'][0]['name']) for v in results])\n\n    nearby_venues = pd.DataFrame([item for venue_list in venues_list for item in venue_list])\n    nearby_venues.columns = ['Neighbourhood', \n                  'Neighbourhood Latitude', \n                  'Neighbourhood Longitude', \n                  'Venue', \n                  'Venue Latitude', \n                  'Venue Longitude', \n                  'Venue Category']\n    \n    return(nearby_venues)"
        },
        {
            "cell_type": "code",
            "execution_count": null,
            "metadata": {},
            "outputs": [],
            "source": "s_venues = getNearbyVenues(names=df3['Neighbourhood'],\n                                   latitudes=df3['Latitude'],\n                                   longitudes=df3['Longitude']\n                                  )"
        },
        {
            "cell_type": "code",
            "execution_count": null,
            "metadata": {},
            "outputs": [],
            "source": "#venues dataframe for each location\nprint(s_venues.shape)\ns_venues.head()"
        },
        {
            "cell_type": "markdown",
            "metadata": {},
            "source": "### Asking to the user what is the venue that he prefers."
        },
        {
            "cell_type": "code",
            "execution_count": null,
            "metadata": {},
            "outputs": [],
            "source": "print(\"Enter the venue that would definately want in your neighbourhood \")\ns = input()"
        },
        {
            "cell_type": "code",
            "execution_count": null,
            "metadata": {},
            "outputs": [],
            "source": "s"
        },
        {
            "cell_type": "markdown",
            "metadata": {},
            "source": "### Searching if the venue is located in any of the neighbourhoods"
        },
        {
            "cell_type": "code",
            "execution_count": null,
            "metadata": {},
            "outputs": [],
            "source": "df_select=s_venues[s_venues['Venue Category']==s]"
        },
        {
            "cell_type": "code",
            "execution_count": null,
            "metadata": {},
            "outputs": [],
            "source": "print(\"Neighborhoods that contains the venue\")\ndf_select"
        },
        {
            "cell_type": "markdown",
            "metadata": {},
            "source": "### Calculating the distance of the venue from the neighbourhoods"
        },
        {
            "cell_type": "code",
            "execution_count": null,
            "metadata": {},
            "outputs": [],
            "source": "from math import sin, cos, sqrt, atan2, radians\ndf_distance=pd.DataFrame(columns=['Neighbourhood','N latitude','N longitude','Distance to the venue'])\n\n#vlong=df_select[df_select['Venue Longitude']]\n#vlat=df_select[df_select['Venue Latitude']]\nfor idx,row in df_select.iterrows():\n    # approximate radius of earth in km\n    vlat=row['Venue Latitude']\n    vlong=row['Venue Longitude']\n\nprint(vlat)\n\nfor idx,row in df3.iterrows():\n    # approximate radius of earth in km\n    R = 6373.0\n\n    hlat=row['Latitude']\n    hlong=row['Longitude']\n    lat1 = radians(vlat)\n    lon1 = radians(vlong)\n    lat2 = radians(hlat)\n    lon2 = radians(hlong)\n\n    dlon = lon2 - lon1\n    dlat = lat2 - lat1\n\n    a = sin(dlat / 2)**2 + cos(lat1) * cos(lat2) * sin(dlon / 2)**2\n    c = 2 * atan2(sqrt(a), sqrt(1 - a))\n\n    distance = R * c\n\n    df_distance = df_distance.append({'Neighbourhood' : row['Neighbourhood'],\n                                      'N latitude':hlat,\n                                      'N longitude':hlong,\n                                        'Distance to the venue' : distance},  \n                ignore_index = True) \n    "
        },
        {
            "cell_type": "code",
            "execution_count": null,
            "metadata": {},
            "outputs": [],
            "source": "df_distance"
        },
        {
            "cell_type": "markdown",
            "metadata": {},
            "source": "### Sorting the neighbourhoods based on the distance to the venue in ascending order"
        },
        {
            "cell_type": "code",
            "execution_count": null,
            "metadata": {},
            "outputs": [],
            "source": "df_distance.sort_values(by=['Distance to the venue'])"
        },
        {
            "cell_type": "markdown",
            "metadata": {},
            "source": "### Showing the crime range, the venue, and the distance of each neighbourhood from the venue given by the user"
        },
        {
            "cell_type": "code",
            "execution_count": null,
            "metadata": {},
            "outputs": [],
            "source": "# create map of New York using latitude and longitude values\nmap_sf = folium.Map(location=[latitude, longitude], zoom_start=12)\n\n# add markers to map\nfolium.Choropleth(\n    geo_data=san_geo,\n    name='choropleth',\n    data=df3,\n    columns=['Neighbourhood', 'Count'],\n    key_on='feature.properties.DISTRICT',\n    fill_color='BuPu',\n    fill_opacity=0.7,\n    line_opacity=0.2,\n    legend_name='Crime rate in San Francisco'\n).add_to(map_sf)    \n\n\n    \nfor idx,row in df_select.iterrows():\n    # approximate radius of earth in km\n    vlat=row['Venue Latitude']\n    vlong=row['Venue Longitude']\n    venue=[vlat,vlong]\n    \n \n\nfor idx,row in df_distance.iterrows():\n    hood_location=[row['N latitude'],row['N longitude']]\n    folium.PolyLine(locations=[venue, hood_location], color='red').add_to(map_sf)\n    \nfor lat, lng,neighborhood,distance in zip(df3['Latitude'], df3['Longitude'], df3['Neighbourhood'], df_distance['Distance to the venue']):\n    label = '{} {}{}'.format(neighborhood, distance,'km')\n    label = folium.Popup(label, parse_html=True)\n    folium.CircleMarker(\n        [lat, lng],\n        radius=5,\n        popup=label,\n        color='blue',\n        fill=True,\n        fill_color='#3186cc',\n        fill_opacity=0.7,\n        parse_html=False).add_to(map_sf)   \n    \nlabel = '{}'.format(s)\nlabel = folium.Popup(label, parse_html=True)\nfolium.CircleMarker(\n        [vlat, vlong],\n        radius=3,\n        popup=label,\n        color='black',\n        fill=True,\n        fill_color='black',\n        fill_opacity=0.5,\n        parse_html=False).add_to(map_sf)       \n    \n\nmap_sf"
        },
        {
            "cell_type": "code",
            "execution_count": null,
            "metadata": {},
            "outputs": [],
            "source": ""
        }
    ],
    "metadata": {
        "kernelspec": {
            "display_name": "Python 3.7",
            "language": "python",
            "name": "python3"
        },
        "language_info": {
            "codemirror_mode": {
                "name": "ipython",
                "version": 3
            },
            "file_extension": ".py",
            "mimetype": "text/x-python",
            "name": "python",
            "nbconvert_exporter": "python",
            "pygments_lexer": "ipython3",
            "version": "3.7.9"
        }
    },
    "nbformat": 4,
    "nbformat_minor": 1
}